{
 "cells": [
  {
   "cell_type": "code",
   "execution_count": 1,
   "id": "english-island",
   "metadata": {
    "execution": {
     "iopub.execute_input": "2021-04-13T04:56:23.981678Z",
     "iopub.status.busy": "2021-04-13T04:56:23.981000Z",
     "iopub.status.idle": "2021-04-13T04:56:25.537508Z",
     "shell.execute_reply": "2021-04-13T04:56:25.536909Z"
    },
    "papermill": {
     "duration": 1.583587,
     "end_time": "2021-04-13T04:56:25.537664",
     "exception": false,
     "start_time": "2021-04-13T04:56:23.954077",
     "status": "completed"
    },
    "tags": []
   },
   "outputs": [],
   "source": [
    "import numpy as np \n",
    "import pandas as pd \n",
    "import os \n",
    "import sys \n",
    "import torch\n",
    "import torchvision"
   ]
  },
  {
   "cell_type": "markdown",
   "id": "brief-guest",
   "metadata": {
    "papermill": {
     "duration": 0.02065,
     "end_time": "2021-04-13T04:56:25.579339",
     "exception": false,
     "start_time": "2021-04-13T04:56:25.558689",
     "status": "completed"
    },
    "tags": []
   },
   "source": [
    "# Importing the dataset"
   ]
  },
  {
   "cell_type": "code",
   "execution_count": 2,
   "id": "promising-silver",
   "metadata": {
    "execution": {
     "iopub.execute_input": "2021-04-13T04:56:25.624239Z",
     "iopub.status.busy": "2021-04-13T04:56:25.623736Z",
     "iopub.status.idle": "2021-04-13T04:56:25.638623Z",
     "shell.execute_reply": "2021-04-13T04:56:25.639150Z"
    },
    "papermill": {
     "duration": 0.039726,
     "end_time": "2021-04-13T04:56:25.639336",
     "exception": false,
     "start_time": "2021-04-13T04:56:25.599610",
     "status": "completed"
    },
    "tags": []
   },
   "outputs": [
    {
     "name": "stdout",
     "output_type": "stream",
     "text": [
      "['Hourse Mackerel', 'Black Sea Sprat', 'Sea Bass', 'Red Mullet', 'Trout', 'Striped Red Mullet', 'Shrimp', 'Gilt-Head Bream', 'Red Sea Bream']\n"
     ]
    }
   ],
   "source": [
    "fish_categories = []\n",
    "path = '../input/a-large-scale-fish-dataset/Fish_Dataset/Fish_Dataset'\n",
    "for directory in os.listdir(path):\n",
    "    if '.' not in directory:\n",
    "        fish_categories.append(directory)\n",
    "        \n",
    "print(fish_categories)"
   ]
  },
  {
   "cell_type": "code",
   "execution_count": 3,
   "id": "political-papua",
   "metadata": {
    "execution": {
     "iopub.execute_input": "2021-04-13T04:56:25.688085Z",
     "iopub.status.busy": "2021-04-13T04:56:25.687477Z",
     "iopub.status.idle": "2021-04-13T04:56:26.493153Z",
     "shell.execute_reply": "2021-04-13T04:56:26.492143Z"
    },
    "papermill": {
     "duration": 0.830993,
     "end_time": "2021-04-13T04:56:26.493282",
     "exception": false,
     "start_time": "2021-04-13T04:56:25.662289",
     "status": "completed"
    },
    "tags": []
   },
   "outputs": [],
   "source": [
    "image_directory = {}\n",
    "for i in fish_categories:\n",
    "    image_directory[i] = [os.path.join(path,i,i,j) for j in  os.listdir(os.path.join(path,i,i))]"
   ]
  },
  {
   "cell_type": "code",
   "execution_count": 4,
   "id": "democratic-savannah",
   "metadata": {
    "execution": {
     "iopub.execute_input": "2021-04-13T04:56:26.541937Z",
     "iopub.status.busy": "2021-04-13T04:56:26.541178Z",
     "iopub.status.idle": "2021-04-13T04:56:26.543573Z",
     "shell.execute_reply": "2021-04-13T04:56:26.543942Z"
    },
    "papermill": {
     "duration": 0.029852,
     "end_time": "2021-04-13T04:56:26.544076",
     "exception": false,
     "start_time": "2021-04-13T04:56:26.514224",
     "status": "completed"
    },
    "tags": []
   },
   "outputs": [],
   "source": [
    "file_category = []\n",
    "file_name = []\n",
    "for i in image_directory.keys():\n",
    "    for j in image_directory[i]:\n",
    "        file_category.append(i)\n",
    "        file_name.append(j)"
   ]
  },
  {
   "cell_type": "code",
   "execution_count": 5,
   "id": "executive-symbol",
   "metadata": {
    "execution": {
     "iopub.execute_input": "2021-04-13T04:56:26.590616Z",
     "iopub.status.busy": "2021-04-13T04:56:26.589933Z",
     "iopub.status.idle": "2021-04-13T04:56:26.593086Z",
     "shell.execute_reply": "2021-04-13T04:56:26.592681Z"
    },
    "papermill": {
     "duration": 0.028325,
     "end_time": "2021-04-13T04:56:26.593195",
     "exception": false,
     "start_time": "2021-04-13T04:56:26.564870",
     "status": "completed"
    },
    "tags": []
   },
   "outputs": [],
   "source": [
    "data = {'categories':file_category,'file_name':file_name}"
   ]
  },
  {
   "cell_type": "code",
   "execution_count": 6,
   "id": "framed-genius",
   "metadata": {
    "execution": {
     "iopub.execute_input": "2021-04-13T04:56:26.650619Z",
     "iopub.status.busy": "2021-04-13T04:56:26.649185Z",
     "iopub.status.idle": "2021-04-13T04:56:26.674457Z",
     "shell.execute_reply": "2021-04-13T04:56:26.674955Z"
    },
    "papermill": {
     "duration": 0.060915,
     "end_time": "2021-04-13T04:56:26.675095",
     "exception": false,
     "start_time": "2021-04-13T04:56:26.614180",
     "status": "completed"
    },
    "tags": []
   },
   "outputs": [
    {
     "data": {
      "text/html": [
       "<div>\n",
       "<style scoped>\n",
       "    .dataframe tbody tr th:only-of-type {\n",
       "        vertical-align: middle;\n",
       "    }\n",
       "\n",
       "    .dataframe tbody tr th {\n",
       "        vertical-align: top;\n",
       "    }\n",
       "\n",
       "    .dataframe thead th {\n",
       "        text-align: right;\n",
       "    }\n",
       "</style>\n",
       "<table border=\"1\" class=\"dataframe\">\n",
       "  <thead>\n",
       "    <tr style=\"text-align: right;\">\n",
       "      <th></th>\n",
       "      <th>categories</th>\n",
       "      <th>file_name</th>\n",
       "    </tr>\n",
       "  </thead>\n",
       "  <tbody>\n",
       "    <tr>\n",
       "      <th>0</th>\n",
       "      <td>Hourse Mackerel</td>\n",
       "      <td>../input/a-large-scale-fish-dataset/Fish_Datas...</td>\n",
       "    </tr>\n",
       "    <tr>\n",
       "      <th>1</th>\n",
       "      <td>Hourse Mackerel</td>\n",
       "      <td>../input/a-large-scale-fish-dataset/Fish_Datas...</td>\n",
       "    </tr>\n",
       "    <tr>\n",
       "      <th>2</th>\n",
       "      <td>Hourse Mackerel</td>\n",
       "      <td>../input/a-large-scale-fish-dataset/Fish_Datas...</td>\n",
       "    </tr>\n",
       "    <tr>\n",
       "      <th>3</th>\n",
       "      <td>Hourse Mackerel</td>\n",
       "      <td>../input/a-large-scale-fish-dataset/Fish_Datas...</td>\n",
       "    </tr>\n",
       "    <tr>\n",
       "      <th>4</th>\n",
       "      <td>Hourse Mackerel</td>\n",
       "      <td>../input/a-large-scale-fish-dataset/Fish_Datas...</td>\n",
       "    </tr>\n",
       "  </tbody>\n",
       "</table>\n",
       "</div>"
      ],
      "text/plain": [
       "        categories                                          file_name\n",
       "0  Hourse Mackerel  ../input/a-large-scale-fish-dataset/Fish_Datas...\n",
       "1  Hourse Mackerel  ../input/a-large-scale-fish-dataset/Fish_Datas...\n",
       "2  Hourse Mackerel  ../input/a-large-scale-fish-dataset/Fish_Datas...\n",
       "3  Hourse Mackerel  ../input/a-large-scale-fish-dataset/Fish_Datas...\n",
       "4  Hourse Mackerel  ../input/a-large-scale-fish-dataset/Fish_Datas..."
      ]
     },
     "execution_count": 6,
     "metadata": {},
     "output_type": "execute_result"
    }
   ],
   "source": [
    "image_df = pd.DataFrame(data)\n",
    "image_df.head()"
   ]
  },
  {
   "cell_type": "code",
   "execution_count": 7,
   "id": "finite-prerequisite",
   "metadata": {
    "execution": {
     "iopub.execute_input": "2021-04-13T04:56:26.724122Z",
     "iopub.status.busy": "2021-04-13T04:56:26.723314Z",
     "iopub.status.idle": "2021-04-13T04:56:26.726409Z",
     "shell.execute_reply": "2021-04-13T04:56:26.725982Z"
    },
    "papermill": {
     "duration": 0.029252,
     "end_time": "2021-04-13T04:56:26.726519",
     "exception": false,
     "start_time": "2021-04-13T04:56:26.697267",
     "status": "completed"
    },
    "tags": []
   },
   "outputs": [],
   "source": [
    "import PIL\n",
    "import torchvision.transforms as T\n",
    "from torch.utils.data import DataLoader, Dataset"
   ]
  },
  {
   "cell_type": "code",
   "execution_count": 8,
   "id": "yellow-pharmacy",
   "metadata": {
    "execution": {
     "iopub.execute_input": "2021-04-13T04:56:26.778060Z",
     "iopub.status.busy": "2021-04-13T04:56:26.777514Z",
     "iopub.status.idle": "2021-04-13T04:56:27.039095Z",
     "shell.execute_reply": "2021-04-13T04:56:27.039696Z"
    },
    "papermill": {
     "duration": 0.291244,
     "end_time": "2021-04-13T04:56:27.039865",
     "exception": false,
     "start_time": "2021-04-13T04:56:26.748621",
     "status": "completed"
    },
    "tags": []
   },
   "outputs": [
    {
     "name": "stdout",
     "output_type": "stream",
     "text": [
      "Red Mullet\n",
      "../input/a-large-scale-fish-dataset/Fish_Dataset/Fish_Dataset/Red Mullet/Red Mullet/00541.png\n"
     ]
    },
    {
     "data": {
      "text/plain": [
       "Text(0.5, 1.0, 'Red Mullet')"
      ]
     },
     "execution_count": 8,
     "metadata": {},
     "output_type": "execute_result"
    },
    {
     "data": {
      "image/png": "[encoded data removed]",
      "text/plain": [
       "<Figure size 432x288 with 1 Axes>"
      ]
     },
     "metadata": {
      "needs_background": "light"
     },
     "output_type": "display_data"
    }
   ],
   "source": [
    "import matplotlib.pyplot as plt\n",
    "\n",
    "x = image_df.sample()\n",
    "random_category = x.categories.values[0]\n",
    "random_file_name = x.file_name.values[0]\n",
    "print(random_category)\n",
    "print(random_file_name)\n",
    "img = PIL.Image.open(random_file_name)\n",
    "plt.imshow(img)\n",
    "plt.title(random_category)\n"
   ]
  },
  {
   "cell_type": "code",
   "execution_count": 9,
   "id": "hungarian-median",
   "metadata": {
    "execution": {
     "iopub.execute_input": "2021-04-13T04:56:27.101897Z",
     "iopub.status.busy": "2021-04-13T04:56:27.101261Z",
     "iopub.status.idle": "2021-04-13T04:56:27.104137Z",
     "shell.execute_reply": "2021-04-13T04:56:27.104658Z"
    },
    "papermill": {
     "duration": 0.036128,
     "end_time": "2021-04-13T04:56:27.104812",
     "exception": false,
     "start_time": "2021-04-13T04:56:27.068684",
     "status": "completed"
    },
    "tags": []
   },
   "outputs": [
    {
     "name": "stdout",
     "output_type": "stream",
     "text": [
      "(445, 590, 3)\n",
      "(3, 445, 590)\n"
     ]
    }
   ],
   "source": [
    "img_array = np.array(img)\n",
    "print(img_array.shape)\n",
    "img_array_transposed = np.transpose(img_array,(2,0,1))\n",
    "print(img_array_transposed.shape)"
   ]
  },
  {
   "cell_type": "code",
   "execution_count": 10,
   "id": "transsexual-thread",
   "metadata": {
    "execution": {
     "iopub.execute_input": "2021-04-13T04:56:27.163897Z",
     "iopub.status.busy": "2021-04-13T04:56:27.163288Z",
     "iopub.status.idle": "2021-04-13T04:56:27.167165Z",
     "shell.execute_reply": "2021-04-13T04:56:27.166756Z"
    },
    "papermill": {
     "duration": 0.034815,
     "end_time": "2021-04-13T04:56:27.167278",
     "exception": false,
     "start_time": "2021-04-13T04:56:27.132463",
     "status": "completed"
    },
    "tags": []
   },
   "outputs": [
    {
     "name": "stdout",
     "output_type": "stream",
     "text": [
      "{'Hourse Mackerel': 0, 'Black Sea Sprat': 1, 'Sea Bass': 2, 'Red Mullet': 3, 'Trout': 4, 'Striped Red Mullet': 5, 'Shrimp': 6, 'Gilt-Head Bream': 7, 'Red Sea Bream': 8}\n"
     ]
    }
   ],
   "source": [
    "str_to_int = {}\n",
    "for i in range(len(fish_categories)):\n",
    "    str_to_int[fish_categories[i]]=i\n",
    "    \n",
    "print(str_to_int)"
   ]
  },
  {
   "cell_type": "code",
   "execution_count": 11,
   "id": "parallel-surveillance",
   "metadata": {
    "execution": {
     "iopub.execute_input": "2021-04-13T04:56:27.225579Z",
     "iopub.status.busy": "2021-04-13T04:56:27.224949Z",
     "iopub.status.idle": "2021-04-13T04:56:27.228507Z",
     "shell.execute_reply": "2021-04-13T04:56:27.229084Z"
    },
    "papermill": {
     "duration": 0.034766,
     "end_time": "2021-04-13T04:56:27.229252",
     "exception": false,
     "start_time": "2021-04-13T04:56:27.194486",
     "status": "completed"
    },
    "tags": []
   },
   "outputs": [
    {
     "name": "stdout",
     "output_type": "stream",
     "text": [
      "{0: 'Hourse Mackerel', 1: 'Black Sea Sprat', 2: 'Sea Bass', 3: 'Red Mullet', 4: 'Trout', 5: 'Striped Red Mullet', 6: 'Shrimp', 7: 'Gilt-Head Bream', 8: 'Red Sea Bream'}\n"
     ]
    }
   ],
   "source": [
    "int_to_str = dict([(value, key) for key, value in str_to_int.items()])\n",
    "print(int_to_str)"
   ]
  },
  {
   "cell_type": "markdown",
   "id": "eastern-chaos",
   "metadata": {
    "papermill": {
     "duration": 0.026587,
     "end_time": "2021-04-13T04:56:27.283447",
     "exception": false,
     "start_time": "2021-04-13T04:56:27.256860",
     "status": "completed"
    },
    "tags": []
   },
   "source": [
    "# Building the Dataset Class"
   ]
  },
  {
   "cell_type": "code",
   "execution_count": 12,
   "id": "peripheral-norman",
   "metadata": {
    "execution": {
     "iopub.execute_input": "2021-04-13T04:56:27.343412Z",
     "iopub.status.busy": "2021-04-13T04:56:27.342673Z",
     "iopub.status.idle": "2021-04-13T04:56:27.345567Z",
     "shell.execute_reply": "2021-04-13T04:56:27.345044Z"
    },
    "papermill": {
     "duration": 0.035001,
     "end_time": "2021-04-13T04:56:27.345689",
     "exception": false,
     "start_time": "2021-04-13T04:56:27.310688",
     "status": "completed"
    },
    "tags": []
   },
   "outputs": [],
   "source": [
    "transform = T.Compose([T.Resize(256),T.CenterCrop(224),T.Resize(64),T.ToTensor(),T.Normalize(mean=[0.485,0.456,0.406],std=[0.229,0.224,0.225])])"
   ]
  },
  {
   "cell_type": "code",
   "execution_count": 13,
   "id": "otherwise-central",
   "metadata": {
    "execution": {
     "iopub.execute_input": "2021-04-13T04:56:27.406720Z",
     "iopub.status.busy": "2021-04-13T04:56:27.406015Z",
     "iopub.status.idle": "2021-04-13T04:56:27.408456Z",
     "shell.execute_reply": "2021-04-13T04:56:27.408956Z"
    },
    "papermill": {
     "duration": 0.036009,
     "end_time": "2021-04-13T04:56:27.409088",
     "exception": false,
     "start_time": "2021-04-13T04:56:27.373079",
     "status": "completed"
    },
    "tags": []
   },
   "outputs": [],
   "source": [
    "class FishDataset(Dataset):\n",
    "    def __init__(self,data,path,transform=None):\n",
    "        self.data = data\n",
    "        self.path = path\n",
    "        self.transform = transform\n",
    "        \n",
    "    def __len__(self):\n",
    "        return len(self.data)\n",
    "    \n",
    "    def __getitem__(self,idx):\n",
    "        image_path = self.data.file_name[idx]\n",
    "        image = PIL.Image.open(image_path)\n",
    "        category_name = self.data.categories[idx]\n",
    "        label = str_to_int[category_name]\n",
    "        if self.transform:\n",
    "            image = self.transform(image)\n",
    "            \n",
    "        \n",
    "#         image = torch.Tensor(np.transpose(np.array(image),(2,0,1)))\n",
    "        return image,label\n",
    "        "
   ]
  },
  {
   "cell_type": "code",
   "execution_count": 14,
   "id": "strategic-manner",
   "metadata": {
    "execution": {
     "iopub.execute_input": "2021-04-13T04:56:27.468412Z",
     "iopub.status.busy": "2021-04-13T04:56:27.467620Z",
     "iopub.status.idle": "2021-04-13T04:56:27.470335Z",
     "shell.execute_reply": "2021-04-13T04:56:27.469938Z"
    },
    "papermill": {
     "duration": 0.033904,
     "end_time": "2021-04-13T04:56:27.470464",
     "exception": false,
     "start_time": "2021-04-13T04:56:27.436560",
     "status": "completed"
    },
    "tags": []
   },
   "outputs": [],
   "source": [
    "dataset = FishDataset(data=image_df,path=path,transform=transform)"
   ]
  },
  {
   "cell_type": "code",
   "execution_count": 15,
   "id": "unavailable-tamil",
   "metadata": {
    "execution": {
     "iopub.execute_input": "2021-04-13T04:56:27.529552Z",
     "iopub.status.busy": "2021-04-13T04:56:27.528961Z",
     "iopub.status.idle": "2021-04-13T04:56:27.681791Z",
     "shell.execute_reply": "2021-04-13T04:56:27.681334Z"
    },
    "papermill": {
     "duration": 0.184304,
     "end_time": "2021-04-13T04:56:27.681912",
     "exception": false,
     "start_time": "2021-04-13T04:56:27.497608",
     "status": "completed"
    },
    "tags": []
   },
   "outputs": [
    {
     "name": "stdout",
     "output_type": "stream",
     "text": [
      "torch.Size([3, 64, 64])\n"
     ]
    },
    {
     "data": {
      "image/png": "[encoded data removed]",
      "text/plain": [
       "<Figure size 432x288 with 1 Axes>"
      ]
     },
     "metadata": {
      "needs_background": "light"
     },
     "output_type": "display_data"
    }
   ],
   "source": [
    "img, lab = dataset[34]\n",
    "print(img.shape)\n",
    "plt.imshow(img.numpy().transpose((2,1,0)))\n",
    "plt.title(fish_categories[int(lab)])\n",
    "plt.axis('off')\n",
    "plt.show()"
   ]
  },
  {
   "cell_type": "code",
   "execution_count": 16,
   "id": "destroyed-controversy",
   "metadata": {
    "execution": {
     "iopub.execute_input": "2021-04-13T04:56:27.745693Z",
     "iopub.status.busy": "2021-04-13T04:56:27.745096Z",
     "iopub.status.idle": "2021-04-13T04:56:27.752985Z",
     "shell.execute_reply": "2021-04-13T04:56:27.752563Z"
    },
    "papermill": {
     "duration": 0.042584,
     "end_time": "2021-04-13T04:56:27.753103",
     "exception": false,
     "start_time": "2021-04-13T04:56:27.710519",
     "status": "completed"
    },
    "tags": []
   },
   "outputs": [],
   "source": [
    "train_data,test_data = torch.utils.data.random_split(dataset,[7000,2000])\n",
    "valid_data,test_data = torch.utils.data.random_split(test_data,[1000,1000])"
   ]
  },
  {
   "cell_type": "code",
   "execution_count": 17,
   "id": "needed-wrestling",
   "metadata": {
    "execution": {
     "iopub.execute_input": "2021-04-13T04:56:27.815044Z",
     "iopub.status.busy": "2021-04-13T04:56:27.814331Z",
     "iopub.status.idle": "2021-04-13T04:56:27.817214Z",
     "shell.execute_reply": "2021-04-13T04:56:27.816804Z"
    },
    "papermill": {
     "duration": 0.035934,
     "end_time": "2021-04-13T04:56:27.817326",
     "exception": false,
     "start_time": "2021-04-13T04:56:27.781392",
     "status": "completed"
    },
    "tags": []
   },
   "outputs": [],
   "source": [
    "trainloader = DataLoader(train_data,batch_size=64,shuffle=True)\n",
    "validloader = DataLoader(valid_data,batch_size=64,shuffle=False)\n",
    "testloader = DataLoader(test_data,batch_size=1,shuffle=False)"
   ]
  },
  {
   "cell_type": "markdown",
   "id": "prime-adelaide",
   "metadata": {
    "papermill": {
     "duration": 0.02826,
     "end_time": "2021-04-13T04:56:27.873876",
     "exception": false,
     "start_time": "2021-04-13T04:56:27.845616",
     "status": "completed"
    },
    "tags": []
   },
   "source": [
    "# Building the Neural Network"
   ]
  },
  {
   "cell_type": "code",
   "execution_count": 18,
   "id": "directed-kinase",
   "metadata": {
    "execution": {
     "iopub.execute_input": "2021-04-13T04:56:27.935769Z",
     "iopub.status.busy": "2021-04-13T04:56:27.935017Z",
     "iopub.status.idle": "2021-04-13T04:56:27.937840Z",
     "shell.execute_reply": "2021-04-13T04:56:27.937440Z"
    },
    "papermill": {
     "duration": 0.035364,
     "end_time": "2021-04-13T04:56:27.937948",
     "exception": false,
     "start_time": "2021-04-13T04:56:27.902584",
     "status": "completed"
    },
    "tags": []
   },
   "outputs": [],
   "source": [
    "import torch.nn as nn\n",
    "import torch.nn.functional as F"
   ]
  },
  {
   "cell_type": "code",
   "execution_count": 19,
   "id": "saved-candidate",
   "metadata": {
    "execution": {
     "iopub.execute_input": "2021-04-13T04:56:28.549843Z",
     "iopub.status.busy": "2021-04-13T04:56:28.549059Z",
     "iopub.status.idle": "2021-04-13T04:56:28.552050Z",
     "shell.execute_reply": "2021-04-13T04:56:28.552634Z"
    },
    "papermill": {
     "duration": 0.586301,
     "end_time": "2021-04-13T04:56:28.552789",
     "exception": false,
     "start_time": "2021-04-13T04:56:27.966488",
     "status": "completed"
    },
    "tags": []
   },
   "outputs": [
    {
     "name": "stdout",
     "output_type": "stream",
     "text": [
      "True\n"
     ]
    }
   ],
   "source": [
    "cuda_available = torch.cuda.is_available()\n",
    "\n",
    "if cuda_available:\n",
    "    print('True')\n",
    "else:\n",
    "    print('False')"
   ]
  },
  {
   "cell_type": "code",
   "execution_count": 20,
   "id": "numerical-dimension",
   "metadata": {
    "execution": {
     "iopub.execute_input": "2021-04-13T04:56:28.616064Z",
     "iopub.status.busy": "2021-04-13T04:56:28.615466Z",
     "iopub.status.idle": "2021-04-13T04:56:28.618328Z",
     "shell.execute_reply": "2021-04-13T04:56:28.618762Z"
    },
    "papermill": {
     "duration": 0.037102,
     "end_time": "2021-04-13T04:56:28.618891",
     "exception": false,
     "start_time": "2021-04-13T04:56:28.581789",
     "status": "completed"
    },
    "tags": []
   },
   "outputs": [
    {
     "name": "stdout",
     "output_type": "stream",
     "text": [
      "9\n"
     ]
    }
   ],
   "source": [
    "print(len(fish_categories))"
   ]
  },
  {
   "cell_type": "code",
   "execution_count": 21,
   "id": "loose-winning",
   "metadata": {
    "execution": {
     "iopub.execute_input": "2021-04-13T04:56:28.714752Z",
     "iopub.status.busy": "2021-04-13T04:56:28.711442Z",
     "iopub.status.idle": "2021-04-13T04:56:28.715662Z",
     "shell.execute_reply": "2021-04-13T04:56:28.716399Z"
    },
    "papermill": {
     "duration": 0.06867,
     "end_time": "2021-04-13T04:56:28.716637",
     "exception": false,
     "start_time": "2021-04-13T04:56:28.647967",
     "status": "completed"
    },
    "tags": []
   },
   "outputs": [],
   "source": [
    "class Net(nn.Module):\n",
    "    def __init__(self):\n",
    "        super(Net,self).__init__()\n",
    "        self.conv1 = nn.Conv2d(3,16,3)\n",
    "        self.conv2 = nn.Conv2d(16,32,3)\n",
    "        self.conv3 = nn.Conv2d(32,64,3)\n",
    "        self.pool = nn.MaxPool2d(2,2)\n",
    "        self.dropout = nn.Dropout(0.25)\n",
    "        self.fc1 = nn.Linear(64*6*6,500)\n",
    "        self.fc2 = nn.Linear(500,9)\n",
    "    \n",
    "    def forward(self,x):\n",
    "        x = self.pool(F.relu(self.conv1(x)))\n",
    "        x = self.pool(F.relu(self.conv2(x)))\n",
    "        x = self.pool(F.relu(self.conv3(x)))\n",
    "        x = x.view(-1,64*6*6)\n",
    "        x = self.dropout(x)\n",
    "        x = F.relu(self.fc1(x))\n",
    "        x = self.dropout(x)\n",
    "        x = self.fc2(x)\n",
    "        return x"
   ]
  },
  {
   "cell_type": "code",
   "execution_count": 22,
   "id": "bright-maryland",
   "metadata": {
    "execution": {
     "iopub.execute_input": "2021-04-13T04:56:28.833093Z",
     "iopub.status.busy": "2021-04-13T04:56:28.832066Z",
     "iopub.status.idle": "2021-04-13T04:56:28.863676Z",
     "shell.execute_reply": "2021-04-13T04:56:28.864923Z"
    },
    "papermill": {
     "duration": 0.104,
     "end_time": "2021-04-13T04:56:28.869245",
     "exception": false,
     "start_time": "2021-04-13T04:56:28.765245",
     "status": "completed"
    },
    "tags": []
   },
   "outputs": [
    {
     "name": "stdout",
     "output_type": "stream",
     "text": [
      "Net(\n",
      "  (conv1): Conv2d(3, 16, kernel_size=(3, 3), stride=(1, 1))\n",
      "  (conv2): Conv2d(16, 32, kernel_size=(3, 3), stride=(1, 1))\n",
      "  (conv3): Conv2d(32, 64, kernel_size=(3, 3), stride=(1, 1))\n",
      "  (pool): MaxPool2d(kernel_size=2, stride=2, padding=0, dilation=1, ceil_mode=False)\n",
      "  (dropout): Dropout(p=0.25, inplace=False)\n",
      "  (fc1): Linear(in_features=2304, out_features=500, bias=True)\n",
      "  (fc2): Linear(in_features=500, out_features=9, bias=True)\n",
      ")\n"
     ]
    }
   ],
   "source": [
    "model =  Net()\n",
    "print(model)"
   ]
  },
  {
   "cell_type": "code",
   "execution_count": 23,
   "id": "asian-campus",
   "metadata": {
    "execution": {
     "iopub.execute_input": "2021-04-13T04:56:29.007045Z",
     "iopub.status.busy": "2021-04-13T04:56:29.005528Z",
     "iopub.status.idle": "2021-04-13T04:56:32.953934Z",
     "shell.execute_reply": "2021-04-13T04:56:32.953432Z"
    },
    "papermill": {
     "duration": 4.021995,
     "end_time": "2021-04-13T04:56:32.954068",
     "exception": false,
     "start_time": "2021-04-13T04:56:28.932073",
     "status": "completed"
    },
    "tags": []
   },
   "outputs": [],
   "source": [
    "if cuda_available:\n",
    "    model.cuda()"
   ]
  },
  {
   "cell_type": "markdown",
   "id": "mathematical-printing",
   "metadata": {
    "papermill": {
     "duration": 0.029786,
     "end_time": "2021-04-13T04:56:33.015916",
     "exception": false,
     "start_time": "2021-04-13T04:56:32.986130",
     "status": "completed"
    },
    "tags": []
   },
   "source": [
    "# Training and Testing the Model"
   ]
  },
  {
   "cell_type": "code",
   "execution_count": 24,
   "id": "broadband-there",
   "metadata": {
    "execution": {
     "iopub.execute_input": "2021-04-13T04:56:33.087599Z",
     "iopub.status.busy": "2021-04-13T04:56:33.086660Z",
     "iopub.status.idle": "2021-04-13T04:56:33.089834Z",
     "shell.execute_reply": "2021-04-13T04:56:33.089338Z"
    },
    "papermill": {
     "duration": 0.042017,
     "end_time": "2021-04-13T04:56:33.089957",
     "exception": false,
     "start_time": "2021-04-13T04:56:33.047940",
     "status": "completed"
    },
    "tags": []
   },
   "outputs": [],
   "source": [
    "criterion = nn.CrossEntropyLoss()\n",
    "optimizer = torch.optim.Adam(model.parameters(),lr=0.01)"
   ]
  },
  {
   "cell_type": "code",
   "execution_count": 25,
   "id": "another-press",
   "metadata": {
    "execution": {
     "iopub.execute_input": "2021-04-13T04:56:33.163441Z",
     "iopub.status.busy": "2021-04-13T04:56:33.162582Z",
     "iopub.status.idle": "2021-04-13T05:23:32.444892Z",
     "shell.execute_reply": "2021-04-13T05:23:32.445301Z"
    },
    "papermill": {
     "duration": 1619.324,
     "end_time": "2021-04-13T05:23:32.445505",
     "exception": false,
     "start_time": "2021-04-13T04:56:33.121505",
     "status": "completed"
    },
    "tags": []
   },
   "outputs": [
    {
     "name": "stdout",
     "output_type": "stream",
     "text": [
      "Epoch: 1 , Training Loss: 2.120657, Validation Loss: 1.745368\n",
      "Validation loss decreased (inf --> 1.745368).  Saving model ...\n",
      "Epoch: 2 , Training Loss: 1.571781, Validation Loss: 1.305519\n",
      "Validation loss decreased (1.745368 --> 1.305519).  Saving model ...\n",
      "Epoch: 3 , Training Loss: 1.298344, Validation Loss: 1.096612\n",
      "Validation loss decreased (1.305519 --> 1.096612).  Saving model ...\n",
      "Epoch: 4 , Training Loss: 1.177354, Validation Loss: 1.062189\n",
      "Validation loss decreased (1.096612 --> 1.062189).  Saving model ...\n",
      "Epoch: 5 , Training Loss: 1.073802, Validation Loss: 0.907049\n",
      "Validation loss decreased (1.062189 --> 0.907049).  Saving model ...\n",
      "Epoch: 6 , Training Loss: 0.972676, Validation Loss: 0.782356\n",
      "Validation loss decreased (0.907049 --> 0.782356).  Saving model ...\n",
      "Epoch: 7 , Training Loss: 0.912495, Validation Loss: 0.732894\n",
      "Validation loss decreased (0.782356 --> 0.732894).  Saving model ...\n",
      "Epoch: 8 , Training Loss: 0.879835, Validation Loss: 0.761567\n",
      "Epoch: 9 , Training Loss: 0.823514, Validation Loss: 0.657632\n",
      "Validation loss decreased (0.732894 --> 0.657632).  Saving model ...\n",
      "Epoch: 10 , Training Loss: 0.812817, Validation Loss: 0.684989\n",
      "Epoch: 11 , Training Loss: 0.841395, Validation Loss: 0.646992\n",
      "Validation loss decreased (0.657632 --> 0.646992).  Saving model ...\n",
      "Epoch: 12 , Training Loss: 0.747325, Validation Loss: 0.591421\n",
      "Validation loss decreased (0.646992 --> 0.591421).  Saving model ...\n",
      "Epoch: 13 , Training Loss: 0.674371, Validation Loss: 0.575501\n",
      "Validation loss decreased (0.591421 --> 0.575501).  Saving model ...\n",
      "Epoch: 14 , Training Loss: 0.695449, Validation Loss: 0.568535\n",
      "Validation loss decreased (0.575501 --> 0.568535).  Saving model ...\n",
      "Epoch: 15 , Training Loss: 0.657281, Validation Loss: 0.532750\n",
      "Validation loss decreased (0.568535 --> 0.532750).  Saving model ...\n"
     ]
    }
   ],
   "source": [
    "n_epochs = 15\n",
    "valid_loss_min = np.Inf\n",
    "\n",
    "for epoch in range(1,n_epochs+1):\n",
    "    train_loss = 0.0\n",
    "    valid_loss = 0.0\n",
    "    \n",
    "    model.train()\n",
    "    \n",
    "    for data,target in trainloader:\n",
    "        if cuda_available:\n",
    "            data,target = data.cuda(),target.cuda()\n",
    "        optimizer.zero_grad()\n",
    "        output = model(data)\n",
    "        loss = criterion(output,target)\n",
    "        loss.backward()\n",
    "        optimizer.step()\n",
    "        train_loss+=loss.item()*data.size(0)\n",
    "    \n",
    "    model.eval()\n",
    "    \n",
    "    for data,target in validloader:\n",
    "        if cuda_available:\n",
    "            data,target = data.cuda(),target.cuda()\n",
    "        output = model(data)\n",
    "        loss = criterion(output,target)\n",
    "        valid_loss+=loss.item()*data.size(0)\n",
    "        \n",
    "    train_loss = train_loss/len(trainloader.sampler)\n",
    "    valid_loss = valid_loss/len(validloader.sampler)\n",
    "    \n",
    "    print('Epoch: {} , Training Loss: {:.6f}, Validation Loss: {:.6f}'.format(epoch,train_loss,valid_loss))\n",
    "    \n",
    "    if valid_loss<=valid_loss_min:\n",
    "        print('Validation loss decreased ({:.6f} --> {:.6f}).  Saving model ...'.format(\n",
    "        valid_loss_min,\n",
    "        valid_loss))\n",
    "        torch.save(model.state_dict(), 'model_fish.pt')\n",
    "        valid_loss_min = valid_loss\n",
    "        "
   ]
  },
  {
   "cell_type": "markdown",
   "id": "smaller-fifth",
   "metadata": {
    "papermill": {
     "duration": 0.034068,
     "end_time": "2021-04-13T05:23:32.513838",
     "exception": false,
     "start_time": "2021-04-13T05:23:32.479770",
     "status": "completed"
    },
    "tags": []
   },
   "source": [
    "## Loading the saved state"
   ]
  },
  {
   "cell_type": "code",
   "execution_count": 26,
   "id": "fossil-skiing",
   "metadata": {
    "execution": {
     "iopub.execute_input": "2021-04-13T05:23:32.586714Z",
     "iopub.status.busy": "2021-04-13T05:23:32.586172Z",
     "iopub.status.idle": "2021-04-13T05:23:32.597681Z",
     "shell.execute_reply": "2021-04-13T05:23:32.598173Z"
    },
    "papermill": {
     "duration": 0.050314,
     "end_time": "2021-04-13T05:23:32.598304",
     "exception": false,
     "start_time": "2021-04-13T05:23:32.547990",
     "status": "completed"
    },
    "tags": []
   },
   "outputs": [
    {
     "data": {
      "text/plain": [
       "<All keys matched successfully>"
      ]
     },
     "execution_count": 26,
     "metadata": {},
     "output_type": "execute_result"
    }
   ],
   "source": [
    "model.load_state_dict(torch.load('model_fish.pt'))"
   ]
  },
  {
   "cell_type": "markdown",
   "id": "dominant-submission",
   "metadata": {
    "papermill": {
     "duration": 0.034135,
     "end_time": "2021-04-13T05:23:32.667118",
     "exception": false,
     "start_time": "2021-04-13T05:23:32.632983",
     "status": "completed"
    },
    "tags": []
   },
   "source": [
    "## Calculating test loss"
   ]
  },
  {
   "cell_type": "code",
   "execution_count": 27,
   "id": "sealed-mouth",
   "metadata": {
    "execution": {
     "iopub.execute_input": "2021-04-13T05:23:32.743618Z",
     "iopub.status.busy": "2021-04-13T05:23:32.742826Z",
     "iopub.status.idle": "2021-04-13T05:23:55.798047Z",
     "shell.execute_reply": "2021-04-13T05:23:55.797433Z"
    },
    "papermill": {
     "duration": 23.096383,
     "end_time": "2021-04-13T05:23:55.798210",
     "exception": false,
     "start_time": "2021-04-13T05:23:32.701827",
     "status": "completed"
    },
    "tags": []
   },
   "outputs": [
    {
     "name": "stdout",
     "output_type": "stream",
     "text": [
      "Test loss : 0.617896\n"
     ]
    }
   ],
   "source": [
    "test_loss = 0.0 \n",
    "y_pred = []\n",
    "y_label = []\n",
    "model.eval()\n",
    "for data,target in testloader:\n",
    "    if cuda_available:\n",
    "        data,target = data.cuda(),target.cuda()\n",
    "    output = model(data)\n",
    "    loss = criterion(output,target)\n",
    "    _,pred = torch.max(output,dim=1)\n",
    "    pred = pred.cpu().item()\n",
    "    y_pred.append(pred)\n",
    "    y_label.append(target.cpu().item())\n",
    "    test_loss+=loss.item()*data.size(0)\n",
    "    \n",
    "test_loss = test_loss/len(testloader.sampler)\n",
    "print('Test loss : {:.6f}'.format(test_loss))\n",
    "    \n",
    "    "
   ]
  },
  {
   "cell_type": "markdown",
   "id": "legendary-negotiation",
   "metadata": {
    "papermill": {
     "duration": 0.034336,
     "end_time": "2021-04-13T05:23:55.868114",
     "exception": false,
     "start_time": "2021-04-13T05:23:55.833778",
     "status": "completed"
    },
    "tags": []
   },
   "source": [
    "# Metrics and Evaluation"
   ]
  },
  {
   "cell_type": "code",
   "execution_count": 28,
   "id": "painted-innocent",
   "metadata": {
    "execution": {
     "iopub.execute_input": "2021-04-13T05:23:55.942101Z",
     "iopub.status.busy": "2021-04-13T05:23:55.941574Z",
     "iopub.status.idle": "2021-04-13T05:23:56.740755Z",
     "shell.execute_reply": "2021-04-13T05:23:56.740250Z"
    },
    "papermill": {
     "duration": 0.838068,
     "end_time": "2021-04-13T05:23:56.740894",
     "exception": false,
     "start_time": "2021-04-13T05:23:55.902826",
     "status": "completed"
    },
    "tags": []
   },
   "outputs": [],
   "source": [
    "from sklearn.metrics import confusion_matrix,classification_report,accuracy_score"
   ]
  },
  {
   "cell_type": "markdown",
   "id": "grave-economy",
   "metadata": {
    "papermill": {
     "duration": 0.040503,
     "end_time": "2021-04-13T05:23:56.818085",
     "exception": false,
     "start_time": "2021-04-13T05:23:56.777582",
     "status": "completed"
    },
    "tags": []
   },
   "source": [
    "## Accuracy"
   ]
  },
  {
   "cell_type": "code",
   "execution_count": 29,
   "id": "stunning-lying",
   "metadata": {
    "execution": {
     "iopub.execute_input": "2021-04-13T05:23:56.902936Z",
     "iopub.status.busy": "2021-04-13T05:23:56.900914Z",
     "iopub.status.idle": "2021-04-13T05:23:56.907785Z",
     "shell.execute_reply": "2021-04-13T05:23:56.907139Z"
    },
    "papermill": {
     "duration": 0.049988,
     "end_time": "2021-04-13T05:23:56.907918",
     "exception": false,
     "start_time": "2021-04-13T05:23:56.857930",
     "status": "completed"
    },
    "tags": []
   },
   "outputs": [
    {
     "name": "stdout",
     "output_type": "stream",
     "text": [
      "Accuracy : 76.200 %\n"
     ]
    }
   ],
   "source": [
    "accuracy = accuracy_score(y_label,y_pred)\n",
    "print('Accuracy : {:.3f} %'.format(accuracy*100))"
   ]
  },
  {
   "cell_type": "markdown",
   "id": "crazy-morning",
   "metadata": {
    "papermill": {
     "duration": 0.035108,
     "end_time": "2021-04-13T05:23:56.979070",
     "exception": false,
     "start_time": "2021-04-13T05:23:56.943962",
     "status": "completed"
    },
    "tags": []
   },
   "source": [
    "## Confusion Matrix"
   ]
  },
  {
   "cell_type": "code",
   "execution_count": 30,
   "id": "powerful-vintage",
   "metadata": {
    "execution": {
     "iopub.execute_input": "2021-04-13T05:23:57.057328Z",
     "iopub.status.busy": "2021-04-13T05:23:57.056566Z",
     "iopub.status.idle": "2021-04-13T05:23:57.699809Z",
     "shell.execute_reply": "2021-04-13T05:23:57.700187Z"
    },
    "papermill": {
     "duration": 0.685263,
     "end_time": "2021-04-13T05:23:57.700338",
     "exception": false,
     "start_time": "2021-04-13T05:23:57.015075",
     "status": "completed"
    },
    "tags": []
   },
   "outputs": [
    {
     "data": {
      "image/png": "[encoded data removed]",
      "text/plain": [
       "<Figure size 720x720 with 2 Axes>"
      ]
     },
     "metadata": {
      "needs_background": "light"
     },
     "output_type": "display_data"
    }
   ],
   "source": [
    "import seaborn as sns\n",
    "fig = plt.figure(figsize=(10,10))\n",
    "cm = confusion_matrix(y_label,y_pred)\n",
    "ax=sns.heatmap(cm,fmt=' ',annot=True,cmap='Blues')\n",
    "ax.invert_yaxis()\n",
    "ax.set_xticklabels(fish_categories,rotation=90)\n",
    "ax.set_yticklabels(fish_categories,rotation=0)\n",
    "ax.set_xlabel('Actual Category')\n",
    "ax.set_ylabel('Predicted Category')\n",
    "ax.set_title('Actual Vs Predicted Category')\n",
    "plt.show()"
   ]
  }
 ],
 "metadata": {
  "kernelspec": {
   "display_name": "Python 3",
   "language": "python",
   "name": "python3"
  },
  "language_info": {
   "codemirror_mode": {
    "name": "ipython",
    "version": 3
   },
   "file_extension": ".py",
   "mimetype": "text/x-python",
   "name": "python",
   "nbconvert_exporter": "python",
   "pygments_lexer": "ipython3",
   "version": "3.7.9"
  },
  "papermill": {
   "default_parameters": {},
   "duration": 1660.054391,
   "end_time": "2021-04-13T05:23:58.955810",
   "environment_variables": {},
   "exception": null,
   "input_path": "__notebook__.ipynb",
   "output_path": "__notebook__.ipynb",
   "parameters": {},
   "start_time": "2021-04-13T04:56:18.901419",
   "version": "2.3.2"
  }
 },
 "nbformat": 4,
 "nbformat_minor": 5
}
